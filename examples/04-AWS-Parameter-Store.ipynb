{
 "cells": [
  {
   "cell_type": "markdown",
   "metadata": {
    "collapsed": false,
    "jupyter": {
     "outputs_hidden": false
    },
    "pycharm": {
     "name": "#%% md\n"
    }
   },
   "source": [
    "# Secret in AWS Parameter Store\n",
    "\n",
    "AWS Parameter Store is a Free service allows you to securely store parameters. This is how you deploy parameter:"
   ]
  },
  {
   "cell_type": "code",
   "execution_count": 1,
   "metadata": {
    "collapsed": false,
    "jupyter": {
     "outputs_hidden": false
    },
    "pycharm": {
     "name": "#%%\n"
    }
   },
   "outputs": [],
   "source": [
    "import boto3\n",
    "from pysecret import Parameter, deploy_parameter, delete_parameter\n",
    "from rich import print as rprint\n",
    "\n",
    "ssm_client = boto3.client(\"ssm\")\n",
    "\n",
    "param_name = \"pysecret-demo\"\n",
    "\n",
    "_ = delete_parameter(ssm_client, param_name) # ensure it is not exists at beginning"
   ]
  },
  {
   "cell_type": "markdown",
   "metadata": {
    "collapsed": false,
    "jupyter": {
     "outputs_hidden": false
    },
    "pycharm": {
     "name": "#%% md\n"
    }
   },
   "source": [
    "## Create a new parameter"
   ]
  },
  {
   "cell_type": "code",
   "execution_count": 2,
   "metadata": {
    "collapsed": false,
    "jupyter": {
     "outputs_hidden": false
    },
    "pycharm": {
     "name": "#%%\n"
    }
   },
   "outputs": [
    {
     "data": {
      "text/html": [
       "<pre style=\"white-space:pre;overflow-x:auto;line-height:normal;font-family:Menlo,'DejaVu Sans Mono',consolas,'Courier New',monospace\"><span style=\"color: #800080; text-decoration-color: #800080; font-weight: bold\">Parameter</span><span style=\"font-weight: bold\">(</span>\n",
       "    <span style=\"color: #808000; text-decoration-color: #808000\">Name</span>=<span style=\"color: #008000; text-decoration-color: #008000\">'pysecret-demo'</span>,\n",
       "    <span style=\"color: #808000; text-decoration-color: #808000\">Value</span>=<span style=\"color: #008000; text-decoration-color: #008000\">'{\"password\": \"mypassword1\"}'</span>,\n",
       "    <span style=\"color: #808000; text-decoration-color: #808000\">Type</span>=<span style=\"color: #008000; text-decoration-color: #008000\">'SecureString'</span>,\n",
       "    <span style=\"color: #808000; text-decoration-color: #808000\">Version</span>=<span style=\"color: #008080; text-decoration-color: #008080; font-weight: bold\">1</span>,\n",
       "    <span style=\"color: #808000; text-decoration-color: #808000\">LastModifiedDate</span>=<span style=\"color: #800080; text-decoration-color: #800080; font-weight: bold\">datetime</span><span style=\"color: #800080; text-decoration-color: #800080; font-weight: bold\">.datetime</span><span style=\"font-weight: bold\">(</span><span style=\"color: #008080; text-decoration-color: #008080; font-weight: bold\">2023</span>, <span style=\"color: #008080; text-decoration-color: #008080; font-weight: bold\">11</span>, <span style=\"color: #008080; text-decoration-color: #008080; font-weight: bold\">18</span>, <span style=\"color: #008080; text-decoration-color: #008080; font-weight: bold\">15</span>, <span style=\"color: #008080; text-decoration-color: #008080; font-weight: bold\">2</span>, <span style=\"color: #008080; text-decoration-color: #008080; font-weight: bold\">51</span><span style=\"font-weight: bold\">)</span>,\n",
       "    <span style=\"color: #808000; text-decoration-color: #808000\">DataType</span>=<span style=\"color: #008000; text-decoration-color: #008000\">'text'</span>,\n",
       "    <span style=\"color: #808000; text-decoration-color: #808000\">ARN</span>=<span style=\"color: #800080; text-decoration-color: #800080; font-style: italic\">None</span>,\n",
       "    <span style=\"color: #808000; text-decoration-color: #808000\">Selector</span>=<span style=\"color: #800080; text-decoration-color: #800080; font-style: italic\">None</span>,\n",
       "    <span style=\"color: #808000; text-decoration-color: #808000\">SourceResult</span>=<span style=\"color: #800080; text-decoration-color: #800080; font-style: italic\">None</span>,\n",
       "    <span style=\"color: #808000; text-decoration-color: #808000\">Tags</span>=<span style=\"font-weight: bold\">{}</span>,\n",
       "    <span style=\"color: #808000; text-decoration-color: #808000\">Labels</span>=<span style=\"font-weight: bold\">[]</span>\n",
       "<span style=\"font-weight: bold\">)</span>\n",
       "</pre>\n"
      ],
      "text/plain": [
       "\u001b[1;35mParameter\u001b[0m\u001b[1m(\u001b[0m\n",
       "    \u001b[33mName\u001b[0m=\u001b[32m'pysecret-demo'\u001b[0m,\n",
       "    \u001b[33mValue\u001b[0m=\u001b[32m'\u001b[0m\u001b[32m{\u001b[0m\u001b[32m\"password\": \"mypassword1\"\u001b[0m\u001b[32m}\u001b[0m\u001b[32m'\u001b[0m,\n",
       "    \u001b[33mType\u001b[0m=\u001b[32m'SecureString'\u001b[0m,\n",
       "    \u001b[33mVersion\u001b[0m=\u001b[1;36m1\u001b[0m,\n",
       "    \u001b[33mLastModifiedDate\u001b[0m=\u001b[1;35mdatetime\u001b[0m\u001b[1;35m.datetime\u001b[0m\u001b[1m(\u001b[0m\u001b[1;36m2023\u001b[0m, \u001b[1;36m11\u001b[0m, \u001b[1;36m18\u001b[0m, \u001b[1;36m15\u001b[0m, \u001b[1;36m2\u001b[0m, \u001b[1;36m51\u001b[0m\u001b[1m)\u001b[0m,\n",
       "    \u001b[33mDataType\u001b[0m=\u001b[32m'text'\u001b[0m,\n",
       "    \u001b[33mARN\u001b[0m=\u001b[3;35mNone\u001b[0m,\n",
       "    \u001b[33mSelector\u001b[0m=\u001b[3;35mNone\u001b[0m,\n",
       "    \u001b[33mSourceResult\u001b[0m=\u001b[3;35mNone\u001b[0m,\n",
       "    \u001b[33mTags\u001b[0m=\u001b[1m{\u001b[0m\u001b[1m}\u001b[0m,\n",
       "    \u001b[33mLabels\u001b[0m=\u001b[1m[\u001b[0m\u001b[1m]\u001b[0m\n",
       "\u001b[1m)\u001b[0m\n"
      ]
     },
     "metadata": {},
     "output_type": "display_data"
    }
   ],
   "source": [
    "param = deploy_parameter(\n",
    "    ssm_client,\n",
    "    name=param_name,\n",
    "    data={\"password\": \"mypassword1\"},\n",
    "    type_is_secure_string=True,\n",
    "    use_default_kms_key=True,\n",
    "    tier_is_intelligent=True,\n",
    "    tags=dict(EnvName=\"dev\"),\n",
    ")\n",
    "# it returns a in-memory presentation of the deployed parameter\n",
    "rprint(param)"
   ]
  },
  {
   "cell_type": "markdown",
   "metadata": {
    "collapsed": false,
    "jupyter": {
     "outputs_hidden": false
    },
    "pycharm": {
     "name": "#%% md\n"
    }
   },
   "source": [
    "## Update a parameter\n",
    "\n",
    "When you update parameter, it creates a new version of this parameter, [AWS only keep the last 100 versions](https://docs.aws.amazon.com/systems-manager/latest/userguide/sysman-paramstore-versions.html)."
   ]
  },
  {
   "cell_type": "code",
   "execution_count": 3,
   "metadata": {
    "collapsed": false,
    "jupyter": {
     "outputs_hidden": false
    },
    "pycharm": {
     "name": "#%%\n"
    }
   },
   "outputs": [
    {
     "data": {
      "text/html": [
       "<pre style=\"white-space:pre;overflow-x:auto;line-height:normal;font-family:Menlo,'DejaVu Sans Mono',consolas,'Courier New',monospace\"><span style=\"color: #800080; text-decoration-color: #800080; font-weight: bold\">Parameter</span><span style=\"font-weight: bold\">(</span>\n",
       "    <span style=\"color: #808000; text-decoration-color: #808000\">Name</span>=<span style=\"color: #008000; text-decoration-color: #008000\">'pysecret-demo'</span>,\n",
       "    <span style=\"color: #808000; text-decoration-color: #808000\">Value</span>=<span style=\"color: #008000; text-decoration-color: #008000\">'{\"password\": \"mypassword2\"}'</span>,\n",
       "    <span style=\"color: #808000; text-decoration-color: #808000\">Type</span>=<span style=\"color: #008000; text-decoration-color: #008000\">'SecureString'</span>,\n",
       "    <span style=\"color: #808000; text-decoration-color: #808000\">Version</span>=<span style=\"color: #008080; text-decoration-color: #008080; font-weight: bold\">2</span>,\n",
       "    <span style=\"color: #808000; text-decoration-color: #808000\">LastModifiedDate</span>=<span style=\"color: #800080; text-decoration-color: #800080; font-weight: bold\">datetime</span><span style=\"color: #800080; text-decoration-color: #800080; font-weight: bold\">.datetime</span><span style=\"font-weight: bold\">(</span><span style=\"color: #008080; text-decoration-color: #008080; font-weight: bold\">2023</span>, <span style=\"color: #008080; text-decoration-color: #008080; font-weight: bold\">11</span>, <span style=\"color: #008080; text-decoration-color: #008080; font-weight: bold\">18</span>, <span style=\"color: #008080; text-decoration-color: #008080; font-weight: bold\">15</span>, <span style=\"color: #008080; text-decoration-color: #008080; font-weight: bold\">2</span>, <span style=\"color: #008080; text-decoration-color: #008080; font-weight: bold\">51</span><span style=\"font-weight: bold\">)</span>,\n",
       "    <span style=\"color: #808000; text-decoration-color: #808000\">DataType</span>=<span style=\"color: #008000; text-decoration-color: #008000\">'text'</span>,\n",
       "    <span style=\"color: #808000; text-decoration-color: #808000\">ARN</span>=<span style=\"color: #800080; text-decoration-color: #800080; font-style: italic\">None</span>,\n",
       "    <span style=\"color: #808000; text-decoration-color: #808000\">Selector</span>=<span style=\"color: #800080; text-decoration-color: #800080; font-style: italic\">None</span>,\n",
       "    <span style=\"color: #808000; text-decoration-color: #808000\">SourceResult</span>=<span style=\"color: #800080; text-decoration-color: #800080; font-style: italic\">None</span>,\n",
       "    <span style=\"color: #808000; text-decoration-color: #808000\">Tags</span>=<span style=\"font-weight: bold\">{}</span>,\n",
       "    <span style=\"color: #808000; text-decoration-color: #808000\">Labels</span>=<span style=\"font-weight: bold\">[]</span>\n",
       "<span style=\"font-weight: bold\">)</span>\n",
       "</pre>\n"
      ],
      "text/plain": [
       "\u001b[1;35mParameter\u001b[0m\u001b[1m(\u001b[0m\n",
       "    \u001b[33mName\u001b[0m=\u001b[32m'pysecret-demo'\u001b[0m,\n",
       "    \u001b[33mValue\u001b[0m=\u001b[32m'\u001b[0m\u001b[32m{\u001b[0m\u001b[32m\"password\": \"mypassword2\"\u001b[0m\u001b[32m}\u001b[0m\u001b[32m'\u001b[0m,\n",
       "    \u001b[33mType\u001b[0m=\u001b[32m'SecureString'\u001b[0m,\n",
       "    \u001b[33mVersion\u001b[0m=\u001b[1;36m2\u001b[0m,\n",
       "    \u001b[33mLastModifiedDate\u001b[0m=\u001b[1;35mdatetime\u001b[0m\u001b[1;35m.datetime\u001b[0m\u001b[1m(\u001b[0m\u001b[1;36m2023\u001b[0m, \u001b[1;36m11\u001b[0m, \u001b[1;36m18\u001b[0m, \u001b[1;36m15\u001b[0m, \u001b[1;36m2\u001b[0m, \u001b[1;36m51\u001b[0m\u001b[1m)\u001b[0m,\n",
       "    \u001b[33mDataType\u001b[0m=\u001b[32m'text'\u001b[0m,\n",
       "    \u001b[33mARN\u001b[0m=\u001b[3;35mNone\u001b[0m,\n",
       "    \u001b[33mSelector\u001b[0m=\u001b[3;35mNone\u001b[0m,\n",
       "    \u001b[33mSourceResult\u001b[0m=\u001b[3;35mNone\u001b[0m,\n",
       "    \u001b[33mTags\u001b[0m=\u001b[1m{\u001b[0m\u001b[1m}\u001b[0m,\n",
       "    \u001b[33mLabels\u001b[0m=\u001b[1m[\u001b[0m\u001b[1m]\u001b[0m\n",
       "\u001b[1m)\u001b[0m\n"
      ]
     },
     "metadata": {},
     "output_type": "display_data"
    }
   ],
   "source": [
    "param = deploy_parameter(\n",
    "    ssm_client,\n",
    "    name=param_name,\n",
    "    data={\"password\": \"mypassword2\"},\n",
    "    type_is_secure_string=True,\n",
    "    use_default_kms_key=True,\n",
    "    tier_is_intelligent=True,\n",
    "    tags=dict(EnvName=\"prod\"), # also update tag\n",
    "    overwrite=True, # set overwrite = True to allow update\n",
    "    skip_if_duplicated=True, # if True, then it won't update if the parameter data is the same\n",
    ")\n",
    "# it returns a in-memory presentation of the updated parameter\n",
    "rprint(param)"
   ]
  },
  {
   "cell_type": "markdown",
   "metadata": {},
   "source": [
    "## Don't Update if the Content Doesn't Change\n",
    "\n",
    "AWS will create a new version regardless if your parameter data is changed. To avoid this, ``pysecret`` will not deploy if the parameter data is not changed."
   ]
  },
  {
   "cell_type": "code",
   "execution_count": 4,
   "metadata": {},
   "outputs": [
    {
     "data": {
      "text/html": [
       "<pre style=\"white-space:pre;overflow-x:auto;line-height:normal;font-family:Menlo,'DejaVu Sans Mono',consolas,'Courier New',monospace\"><span style=\"color: #800080; text-decoration-color: #800080; font-style: italic\">None</span>\n",
       "</pre>\n"
      ],
      "text/plain": [
       "\u001b[3;35mNone\u001b[0m\n"
      ]
     },
     "metadata": {},
     "output_type": "display_data"
    }
   ],
   "source": [
    "param = deploy_parameter(\n",
    "    ssm_client,\n",
    "    name=param_name,\n",
    "    data={\"password\": \"mypassword2\"},\n",
    "    type_is_secure_string=True,\n",
    "    use_default_kms_key=True,\n",
    "    tier_is_intelligent=True,\n",
    "    tags=dict(EnvName=\"prod\"), # also update tag\n",
    "    overwrite=True, # set overwrite = True to allow update\n",
    "    skip_if_duplicated=True, # if True, then it won't update if the parameter data is the same\n",
    ")\n",
    "rprint(param)"
   ]
  },
  {
   "cell_type": "markdown",
   "metadata": {
    "collapsed": false,
    "jupyter": {
     "outputs_hidden": false
    },
    "pycharm": {
     "name": "#%% md\n"
    }
   },
   "source": [
    "## Read parameter data"
   ]
  },
  {
   "cell_type": "code",
   "execution_count": 5,
   "metadata": {
    "collapsed": false,
    "jupyter": {
     "outputs_hidden": false
    },
    "pycharm": {
     "name": "#%%\n"
    }
   },
   "outputs": [
    {
     "data": {
      "text/html": [
       "<pre style=\"white-space:pre;overflow-x:auto;line-height:normal;font-family:Menlo,'DejaVu Sans Mono',consolas,'Courier New',monospace\"><span style=\"color: #800080; text-decoration-color: #800080; font-weight: bold\">Parameter</span><span style=\"font-weight: bold\">(</span>\n",
       "    <span style=\"color: #808000; text-decoration-color: #808000\">Name</span>=<span style=\"color: #008000; text-decoration-color: #008000\">'pysecret-demo'</span>,\n",
       "    <span style=\"color: #808000; text-decoration-color: #808000\">Value</span>=<span style=\"color: #008000; text-decoration-color: #008000\">'{\"password\": \"mypassword2\"}'</span>,\n",
       "    <span style=\"color: #808000; text-decoration-color: #808000\">Type</span>=<span style=\"color: #008000; text-decoration-color: #008000\">'SecureString'</span>,\n",
       "    <span style=\"color: #808000; text-decoration-color: #808000\">Version</span>=<span style=\"color: #008080; text-decoration-color: #008080; font-weight: bold\">2</span>,\n",
       "    <span style=\"color: #808000; text-decoration-color: #808000\">LastModifiedDate</span>=<span style=\"color: #800080; text-decoration-color: #800080; font-weight: bold\">datetime</span><span style=\"color: #800080; text-decoration-color: #800080; font-weight: bold\">.datetime</span><span style=\"font-weight: bold\">(</span><span style=\"color: #008080; text-decoration-color: #008080; font-weight: bold\">2023</span>, <span style=\"color: #008080; text-decoration-color: #008080; font-weight: bold\">11</span>, <span style=\"color: #008080; text-decoration-color: #008080; font-weight: bold\">18</span>, <span style=\"color: #008080; text-decoration-color: #008080; font-weight: bold\">10</span>, <span style=\"color: #008080; text-decoration-color: #008080; font-weight: bold\">2</span>, <span style=\"color: #008080; text-decoration-color: #008080; font-weight: bold\">51</span>, <span style=\"color: #008080; text-decoration-color: #008080; font-weight: bold\">335000</span>, <span style=\"color: #808000; text-decoration-color: #808000\">tzinfo</span>=<span style=\"color: #800080; text-decoration-color: #800080; font-weight: bold\">tzlocal</span><span style=\"font-weight: bold\">())</span>,\n",
       "    <span style=\"color: #808000; text-decoration-color: #808000\">DataType</span>=<span style=\"color: #008000; text-decoration-color: #008000\">'text'</span>,\n",
       "    <span style=\"color: #808000; text-decoration-color: #808000\">ARN</span>=<span style=\"color: #008000; text-decoration-color: #008000\">'arn:aws:ssm:us-east-1:111122223333:parameter/pysecret-demo'</span>,\n",
       "    <span style=\"color: #808000; text-decoration-color: #808000\">Selector</span>=<span style=\"color: #800080; text-decoration-color: #800080; font-style: italic\">None</span>,\n",
       "    <span style=\"color: #808000; text-decoration-color: #808000\">SourceResult</span>=<span style=\"color: #800080; text-decoration-color: #800080; font-style: italic\">None</span>,\n",
       "    <span style=\"color: #808000; text-decoration-color: #808000\">Tags</span>=<span style=\"font-weight: bold\">{}</span>,\n",
       "    <span style=\"color: #808000; text-decoration-color: #808000\">Labels</span>=<span style=\"font-weight: bold\">[]</span>\n",
       "<span style=\"font-weight: bold\">)</span>\n",
       "</pre>\n"
      ],
      "text/plain": [
       "\u001b[1;35mParameter\u001b[0m\u001b[1m(\u001b[0m\n",
       "    \u001b[33mName\u001b[0m=\u001b[32m'pysecret-demo'\u001b[0m,\n",
       "    \u001b[33mValue\u001b[0m=\u001b[32m'\u001b[0m\u001b[32m{\u001b[0m\u001b[32m\"password\": \"mypassword2\"\u001b[0m\u001b[32m}\u001b[0m\u001b[32m'\u001b[0m,\n",
       "    \u001b[33mType\u001b[0m=\u001b[32m'SecureString'\u001b[0m,\n",
       "    \u001b[33mVersion\u001b[0m=\u001b[1;36m2\u001b[0m,\n",
       "    \u001b[33mLastModifiedDate\u001b[0m=\u001b[1;35mdatetime\u001b[0m\u001b[1;35m.datetime\u001b[0m\u001b[1m(\u001b[0m\u001b[1;36m2023\u001b[0m, \u001b[1;36m11\u001b[0m, \u001b[1;36m18\u001b[0m, \u001b[1;36m10\u001b[0m, \u001b[1;36m2\u001b[0m, \u001b[1;36m51\u001b[0m, \u001b[1;36m335000\u001b[0m, \u001b[33mtzinfo\u001b[0m=\u001b[1;35mtzlocal\u001b[0m\u001b[1m(\u001b[0m\u001b[1m)\u001b[0m\u001b[1m)\u001b[0m,\n",
       "    \u001b[33mDataType\u001b[0m=\u001b[32m'text'\u001b[0m,\n",
       "    \u001b[33mARN\u001b[0m=\u001b[32m'arn:aws:ssm:us-east-1:111122223333:parameter/pysecret-demo'\u001b[0m,\n",
       "    \u001b[33mSelector\u001b[0m=\u001b[3;35mNone\u001b[0m,\n",
       "    \u001b[33mSourceResult\u001b[0m=\u001b[3;35mNone\u001b[0m,\n",
       "    \u001b[33mTags\u001b[0m=\u001b[1m{\u001b[0m\u001b[1m}\u001b[0m,\n",
       "    \u001b[33mLabels\u001b[0m=\u001b[1m[\u001b[0m\u001b[1m]\u001b[0m\n",
       "\u001b[1m)\u001b[0m\n"
      ]
     },
     "metadata": {},
     "output_type": "display_data"
    }
   ],
   "source": [
    "param = Parameter.load(\n",
    "    ssm_client, \n",
    "    name=param_name, \n",
    "    with_decryption=True,\n",
    ")\n",
    "rprint(param)"
   ]
  },
  {
   "cell_type": "code",
   "execution_count": 6,
   "metadata": {},
   "outputs": [
    {
     "data": {
      "text/plain": [
       "'111122223333'"
      ]
     },
     "execution_count": 6,
     "metadata": {},
     "output_type": "execute_result"
    }
   ],
   "source": [
    "# access the AWS account id of the parameter\n",
    "param.aws_account_id"
   ]
  },
  {
   "cell_type": "code",
   "execution_count": 7,
   "metadata": {},
   "outputs": [
    {
     "data": {
      "text/plain": [
       "'us-east-1'"
      ]
     },
     "execution_count": 7,
     "metadata": {},
     "output_type": "execute_result"
    }
   ],
   "source": [
    "# access the AWS region of the parameter\n",
    "param.aws_region"
   ]
  },
  {
   "cell_type": "code",
   "execution_count": 8,
   "metadata": {},
   "outputs": [
    {
     "data": {
      "text/plain": [
       "'{\"password\": \"mypassword2\"}'"
      ]
     },
     "execution_count": 8,
     "metadata": {},
     "output_type": "execute_result"
    }
   ],
   "source": [
    "# access the raw data\n",
    "param.Value"
   ]
  },
  {
   "cell_type": "code",
   "execution_count": 9,
   "metadata": {},
   "outputs": [
    {
     "data": {
      "text/plain": [
       "{'password': 'mypassword2'}"
      ]
     },
     "execution_count": 9,
     "metadata": {},
     "output_type": "execute_result"
    }
   ],
   "source": [
    "# access the parameter data in different form\n",
    "param.json_dict"
   ]
  },
  {
   "cell_type": "code",
   "execution_count": 10,
   "metadata": {
    "collapsed": false,
    "jupyter": {
     "outputs_hidden": false
    },
    "pycharm": {
     "name": "#%%\n"
    }
   },
   "outputs": [
    {
     "data": {
      "text/html": [
       "<pre style=\"white-space:pre;overflow-x:auto;line-height:normal;font-family:Menlo,'DejaVu Sans Mono',consolas,'Courier New',monospace\"><span style=\"font-weight: bold\">{</span><span style=\"color: #008000; text-decoration-color: #008000\">'password'</span>: <span style=\"color: #008000; text-decoration-color: #008000\">'mypassword2'</span><span style=\"font-weight: bold\">}</span>\n",
       "</pre>\n"
      ],
      "text/plain": [
       "\u001b[1m{\u001b[0m\u001b[32m'password'\u001b[0m: \u001b[32m'mypassword2'\u001b[0m\u001b[1m}\u001b[0m\n"
      ]
     },
     "metadata": {},
     "output_type": "display_data"
    }
   ],
   "source": [
    "# access the parameter data in JSON format\n",
    "# there are more format options\n",
    "# - string\n",
    "# - string_list\n",
    "# - json_dict\n",
    "# - json_list\n",
    "# - py_object, when the parameter is a pickled object \n",
    "rprint(param.json_dict)"
   ]
  },
  {
   "cell_type": "markdown",
   "metadata": {
    "collapsed": false,
    "jupyter": {
     "outputs_hidden": false
    },
    "pycharm": {
     "name": "#%% md\n"
    }
   },
   "source": [
    "## Store Arbitrary Python Object\n",
    "\n",
    "``pysecret`` can even store arbitrary Python object in AWS Parameter Store, it uses the [jsonpickle](https://pypi.org/project/jsonpickle/) library to serialize Python object into string. You have to install ``jsonpickle`` to use this feature."
   ]
  },
  {
   "cell_type": "code",
   "execution_count": 11,
   "metadata": {
    "collapsed": false,
    "jupyter": {
     "outputs_hidden": false
    },
    "pycharm": {
     "name": "#%%\n"
    }
   },
   "outputs": [],
   "source": [
    "import dataclasses\n",
    "\n",
    "@dataclasses.dataclass\n",
    "class Env:\n",
    "    username: str = dataclasses.field()\n",
    "    password: str = dataclasses.field()\n",
    "\n",
    "\n",
    "@dataclasses.dataclass\n",
    "class Config:\n",
    "    dev: Env = dataclasses.field()\n",
    "    prod: Env = dataclasses.field()"
   ]
  },
  {
   "cell_type": "code",
   "execution_count": 12,
   "metadata": {
    "collapsed": false,
    "jupyter": {
     "outputs_hidden": false
    },
    "pycharm": {
     "name": "#%%\n"
    }
   },
   "outputs": [
    {
     "data": {
      "text/html": [
       "<pre style=\"white-space:pre;overflow-x:auto;line-height:normal;font-family:Menlo,'DejaVu Sans Mono',consolas,'Courier New',monospace\"><span style=\"color: #800080; text-decoration-color: #800080; font-weight: bold\">Config</span><span style=\"font-weight: bold\">(</span>\n",
       "    <span style=\"color: #808000; text-decoration-color: #808000\">dev</span>=<span style=\"color: #800080; text-decoration-color: #800080; font-weight: bold\">Env</span><span style=\"font-weight: bold\">(</span><span style=\"color: #808000; text-decoration-color: #808000\">username</span>=<span style=\"color: #008000; text-decoration-color: #008000\">'dev-username'</span>, <span style=\"color: #808000; text-decoration-color: #808000\">password</span>=<span style=\"color: #008000; text-decoration-color: #008000\">'dev-password'</span><span style=\"font-weight: bold\">)</span>,\n",
       "    <span style=\"color: #808000; text-decoration-color: #808000\">prod</span>=<span style=\"color: #800080; text-decoration-color: #800080; font-weight: bold\">Env</span><span style=\"font-weight: bold\">(</span><span style=\"color: #808000; text-decoration-color: #808000\">username</span>=<span style=\"color: #008000; text-decoration-color: #008000\">'prod-username'</span>, <span style=\"color: #808000; text-decoration-color: #808000\">password</span>=<span style=\"color: #008000; text-decoration-color: #008000\">'prod-password'</span><span style=\"font-weight: bold\">)</span>\n",
       "<span style=\"font-weight: bold\">)</span>\n",
       "</pre>\n"
      ],
      "text/plain": [
       "\u001b[1;35mConfig\u001b[0m\u001b[1m(\u001b[0m\n",
       "    \u001b[33mdev\u001b[0m=\u001b[1;35mEnv\u001b[0m\u001b[1m(\u001b[0m\u001b[33musername\u001b[0m=\u001b[32m'dev-username'\u001b[0m, \u001b[33mpassword\u001b[0m=\u001b[32m'dev-password'\u001b[0m\u001b[1m)\u001b[0m,\n",
       "    \u001b[33mprod\u001b[0m=\u001b[1;35mEnv\u001b[0m\u001b[1m(\u001b[0m\u001b[33musername\u001b[0m=\u001b[32m'prod-username'\u001b[0m, \u001b[33mpassword\u001b[0m=\u001b[32m'prod-password'\u001b[0m\u001b[1m)\u001b[0m\n",
       "\u001b[1m)\u001b[0m\n"
      ]
     },
     "metadata": {},
     "output_type": "display_data"
    }
   ],
   "source": [
    "config = Config(\n",
    "    dev=Env(\n",
    "        username=\"dev-username\",\n",
    "        password=\"dev-password\",\n",
    "    ),\n",
    "    prod=Env(\n",
    "        username=\"prod-username\",\n",
    "        password=\"prod-password\",\n",
    "    ),\n",
    ")\n",
    "\n",
    "param_name = \"pysecret-pyobject\"\n",
    "\n",
    "deploy_parameter(\n",
    "    ssm_client,\n",
    "    name=param_name,\n",
    "    data=config,\n",
    "    type_is_string=True,\n",
    "    tier_is_intelligent=True,\n",
    "    overwrite=True,\n",
    ")\n",
    "\n",
    "param = Parameter.load(ssm_client, name=param_name)\n",
    "rprint(param.py_object) # access the underlying data"
   ]
  },
  {
   "cell_type": "markdown",
   "metadata": {
    "collapsed": false,
    "jupyter": {
     "outputs_hidden": false
    },
    "pycharm": {
     "name": "#%% md\n"
    }
   },
   "source": [
    "## Delete Parameter\n",
    "\n",
    "You can delete the parameters to keep your AWS Account clean"
   ]
  },
  {
   "cell_type": "code",
   "execution_count": 13,
   "metadata": {
    "collapsed": false,
    "jupyter": {
     "outputs_hidden": false
    },
    "pycharm": {
     "name": "#%%\n"
    }
   },
   "outputs": [],
   "source": [
    "delete_parameter(ssm_client, \"pysecret-demo\");\n",
    "delete_parameter(ssm_client, \"pysecret-pyobject\");"
   ]
  },
  {
   "cell_type": "markdown",
   "metadata": {},
   "source": [
    "## Parameter Version"
   ]
  },
  {
   "cell_type": "code",
   "execution_count": 14,
   "metadata": {},
   "outputs": [
    {
     "data": {
      "text/html": [
       "<pre style=\"white-space:pre;overflow-x:auto;line-height:normal;font-family:Menlo,'DejaVu Sans Mono',consolas,'Courier New',monospace\"><span style=\"color: #008080; text-decoration-color: #008080; font-weight: bold\">1</span>\n",
       "</pre>\n"
      ],
      "text/plain": [
       "\u001b[1;36m1\u001b[0m\n"
      ]
     },
     "metadata": {},
     "output_type": "display_data"
    },
    {
     "data": {
      "text/html": [
       "<pre style=\"white-space:pre;overflow-x:auto;line-height:normal;font-family:Menlo,'DejaVu Sans Mono',consolas,'Courier New',monospace\"><span style=\"color: #008080; text-decoration-color: #008080; font-weight: bold\">2</span>\n",
       "</pre>\n"
      ],
      "text/plain": [
       "\u001b[1;36m2\u001b[0m\n"
      ]
     },
     "metadata": {},
     "output_type": "display_data"
    },
    {
     "data": {
      "text/html": [
       "<pre style=\"white-space:pre;overflow-x:auto;line-height:normal;font-family:Menlo,'DejaVu Sans Mono',consolas,'Courier New',monospace\"><span style=\"color: #008080; text-decoration-color: #008080; font-weight: bold\">3</span>\n",
       "</pre>\n"
      ],
      "text/plain": [
       "\u001b[1;36m3\u001b[0m\n"
      ]
     },
     "metadata": {},
     "output_type": "display_data"
    }
   ],
   "source": [
    "param_name_version_example = \"pysecret-version\"\n",
    "delete_parameter(ssm_client, param_name_version_example)\n",
    "for password in [\"pass1\", \"pass2\", \"pass3\"]:\n",
    "    param = deploy_parameter(\n",
    "        ssm_client,\n",
    "        name=param_name_version_example,\n",
    "        data={\"password\": password},\n",
    "        type_is_secure_string=True,\n",
    "        use_default_kms_key=True,\n",
    "        tier_is_intelligent=True,\n",
    "        tags=dict(EnvName=\"prod\"), # also update tag\n",
    "        overwrite=True, # set overwrite = True to allow update\n",
    "        skip_if_duplicated=True, # if True, then it won't update if the parameter data is the same\n",
    "    )\n",
    "    rprint(param.Version)"
   ]
  },
  {
   "cell_type": "code",
   "execution_count": 15,
   "metadata": {},
   "outputs": [
    {
     "data": {
      "text/html": [
       "<pre style=\"white-space:pre;overflow-x:auto;line-height:normal;font-family:Menlo,'DejaVu Sans Mono',consolas,'Courier New',monospace\"><span style=\"color: #800080; text-decoration-color: #800080; font-weight: bold\">Parameter</span><span style=\"font-weight: bold\">(</span>\n",
       "    <span style=\"color: #808000; text-decoration-color: #808000\">Name</span>=<span style=\"color: #008000; text-decoration-color: #008000\">'pysecret-version'</span>,\n",
       "    <span style=\"color: #808000; text-decoration-color: #808000\">Value</span>=<span style=\"color: #008000; text-decoration-color: #008000\">'{\"password\": \"pass1\"}'</span>,\n",
       "    <span style=\"color: #808000; text-decoration-color: #808000\">Type</span>=<span style=\"color: #008000; text-decoration-color: #008000\">'SecureString'</span>,\n",
       "    <span style=\"color: #808000; text-decoration-color: #808000\">Version</span>=<span style=\"color: #008080; text-decoration-color: #008080; font-weight: bold\">1</span>,\n",
       "    <span style=\"color: #808000; text-decoration-color: #808000\">LastModifiedDate</span>=<span style=\"color: #800080; text-decoration-color: #800080; font-weight: bold\">datetime</span><span style=\"color: #800080; text-decoration-color: #800080; font-weight: bold\">.datetime</span><span style=\"font-weight: bold\">(</span><span style=\"color: #008080; text-decoration-color: #008080; font-weight: bold\">2023</span>, <span style=\"color: #008080; text-decoration-color: #008080; font-weight: bold\">11</span>, <span style=\"color: #008080; text-decoration-color: #008080; font-weight: bold\">18</span>, <span style=\"color: #008080; text-decoration-color: #008080; font-weight: bold\">10</span>, <span style=\"color: #008080; text-decoration-color: #008080; font-weight: bold\">2</span>, <span style=\"color: #008080; text-decoration-color: #008080; font-weight: bold\">52</span>, <span style=\"color: #008080; text-decoration-color: #008080; font-weight: bold\">407000</span>, <span style=\"color: #808000; text-decoration-color: #808000\">tzinfo</span>=<span style=\"color: #800080; text-decoration-color: #800080; font-weight: bold\">tzlocal</span><span style=\"font-weight: bold\">())</span>,\n",
       "    <span style=\"color: #808000; text-decoration-color: #808000\">DataType</span>=<span style=\"color: #008000; text-decoration-color: #008000\">'text'</span>,\n",
       "    <span style=\"color: #808000; text-decoration-color: #808000\">ARN</span>=<span style=\"color: #008000; text-decoration-color: #008000\">'arn:aws:ssm:us-east-1:111122223333:parameter/pysecret-version'</span>,\n",
       "    <span style=\"color: #808000; text-decoration-color: #808000\">Selector</span>=<span style=\"color: #008000; text-decoration-color: #008000\">':1'</span>,\n",
       "    <span style=\"color: #808000; text-decoration-color: #808000\">SourceResult</span>=<span style=\"color: #800080; text-decoration-color: #800080; font-style: italic\">None</span>,\n",
       "    <span style=\"color: #808000; text-decoration-color: #808000\">Tags</span>=<span style=\"font-weight: bold\">{}</span>,\n",
       "    <span style=\"color: #808000; text-decoration-color: #808000\">Labels</span>=<span style=\"font-weight: bold\">[]</span>\n",
       "<span style=\"font-weight: bold\">)</span>\n",
       "</pre>\n"
      ],
      "text/plain": [
       "\u001b[1;35mParameter\u001b[0m\u001b[1m(\u001b[0m\n",
       "    \u001b[33mName\u001b[0m=\u001b[32m'pysecret-version'\u001b[0m,\n",
       "    \u001b[33mValue\u001b[0m=\u001b[32m'\u001b[0m\u001b[32m{\u001b[0m\u001b[32m\"password\": \"pass1\"\u001b[0m\u001b[32m}\u001b[0m\u001b[32m'\u001b[0m,\n",
       "    \u001b[33mType\u001b[0m=\u001b[32m'SecureString'\u001b[0m,\n",
       "    \u001b[33mVersion\u001b[0m=\u001b[1;36m1\u001b[0m,\n",
       "    \u001b[33mLastModifiedDate\u001b[0m=\u001b[1;35mdatetime\u001b[0m\u001b[1;35m.datetime\u001b[0m\u001b[1m(\u001b[0m\u001b[1;36m2023\u001b[0m, \u001b[1;36m11\u001b[0m, \u001b[1;36m18\u001b[0m, \u001b[1;36m10\u001b[0m, \u001b[1;36m2\u001b[0m, \u001b[1;36m52\u001b[0m, \u001b[1;36m407000\u001b[0m, \u001b[33mtzinfo\u001b[0m=\u001b[1;35mtzlocal\u001b[0m\u001b[1m(\u001b[0m\u001b[1m)\u001b[0m\u001b[1m)\u001b[0m,\n",
       "    \u001b[33mDataType\u001b[0m=\u001b[32m'text'\u001b[0m,\n",
       "    \u001b[33mARN\u001b[0m=\u001b[32m'arn:aws:ssm:us-east-1:111122223333:parameter/pysecret-version'\u001b[0m,\n",
       "    \u001b[33mSelector\u001b[0m=\u001b[32m':1'\u001b[0m,\n",
       "    \u001b[33mSourceResult\u001b[0m=\u001b[3;35mNone\u001b[0m,\n",
       "    \u001b[33mTags\u001b[0m=\u001b[1m{\u001b[0m\u001b[1m}\u001b[0m,\n",
       "    \u001b[33mLabels\u001b[0m=\u001b[1m[\u001b[0m\u001b[1m]\u001b[0m\n",
       "\u001b[1m)\u001b[0m\n"
      ]
     },
     "metadata": {},
     "output_type": "display_data"
    }
   ],
   "source": [
    "# get the version 1\n",
    "param = Parameter.load(\n",
    "    ssm_client, \n",
    "    name=param_name_version_example, \n",
    "    version=1,\n",
    "    with_decryption=True,\n",
    ")\n",
    "rprint(param)"
   ]
  },
  {
   "cell_type": "code",
   "execution_count": 16,
   "metadata": {
    "collapsed": false,
    "jupyter": {
     "outputs_hidden": false
    },
    "pycharm": {
     "name": "#%%\n"
    }
   },
   "outputs": [
    {
     "data": {
      "text/html": [
       "<pre style=\"white-space:pre;overflow-x:auto;line-height:normal;font-family:Menlo,'DejaVu Sans Mono',consolas,'Courier New',monospace\"><span style=\"color: #800080; text-decoration-color: #800080; font-weight: bold\">Parameter</span><span style=\"font-weight: bold\">(</span>\n",
       "    <span style=\"color: #808000; text-decoration-color: #808000\">Name</span>=<span style=\"color: #008000; text-decoration-color: #008000\">'pysecret-version'</span>,\n",
       "    <span style=\"color: #808000; text-decoration-color: #808000\">Value</span>=<span style=\"color: #008000; text-decoration-color: #008000\">'{\"password\": \"pass3\"}'</span>,\n",
       "    <span style=\"color: #808000; text-decoration-color: #808000\">Type</span>=<span style=\"color: #008000; text-decoration-color: #008000\">'SecureString'</span>,\n",
       "    <span style=\"color: #808000; text-decoration-color: #808000\">Version</span>=<span style=\"color: #008080; text-decoration-color: #008080; font-weight: bold\">3</span>,\n",
       "    <span style=\"color: #808000; text-decoration-color: #808000\">LastModifiedDate</span>=<span style=\"color: #800080; text-decoration-color: #800080; font-weight: bold\">datetime</span><span style=\"color: #800080; text-decoration-color: #800080; font-weight: bold\">.datetime</span><span style=\"font-weight: bold\">(</span><span style=\"color: #008080; text-decoration-color: #008080; font-weight: bold\">2023</span>, <span style=\"color: #008080; text-decoration-color: #008080; font-weight: bold\">11</span>, <span style=\"color: #008080; text-decoration-color: #008080; font-weight: bold\">18</span>, <span style=\"color: #008080; text-decoration-color: #008080; font-weight: bold\">10</span>, <span style=\"color: #008080; text-decoration-color: #008080; font-weight: bold\">2</span>, <span style=\"color: #008080; text-decoration-color: #008080; font-weight: bold\">52</span>, <span style=\"color: #008080; text-decoration-color: #008080; font-weight: bold\">867000</span>, <span style=\"color: #808000; text-decoration-color: #808000\">tzinfo</span>=<span style=\"color: #800080; text-decoration-color: #800080; font-weight: bold\">tzlocal</span><span style=\"font-weight: bold\">())</span>,\n",
       "    <span style=\"color: #808000; text-decoration-color: #808000\">DataType</span>=<span style=\"color: #008000; text-decoration-color: #008000\">'text'</span>,\n",
       "    <span style=\"color: #808000; text-decoration-color: #808000\">ARN</span>=<span style=\"color: #008000; text-decoration-color: #008000\">'arn:aws:ssm:us-east-1:111122223333:parameter/pysecret-version'</span>,\n",
       "    <span style=\"color: #808000; text-decoration-color: #808000\">Selector</span>=<span style=\"color: #800080; text-decoration-color: #800080; font-style: italic\">None</span>,\n",
       "    <span style=\"color: #808000; text-decoration-color: #808000\">SourceResult</span>=<span style=\"color: #800080; text-decoration-color: #800080; font-style: italic\">None</span>,\n",
       "    <span style=\"color: #808000; text-decoration-color: #808000\">Tags</span>=<span style=\"font-weight: bold\">{}</span>,\n",
       "    <span style=\"color: #808000; text-decoration-color: #808000\">Labels</span>=<span style=\"font-weight: bold\">[]</span>\n",
       "<span style=\"font-weight: bold\">)</span>\n",
       "</pre>\n"
      ],
      "text/plain": [
       "\u001b[1;35mParameter\u001b[0m\u001b[1m(\u001b[0m\n",
       "    \u001b[33mName\u001b[0m=\u001b[32m'pysecret-version'\u001b[0m,\n",
       "    \u001b[33mValue\u001b[0m=\u001b[32m'\u001b[0m\u001b[32m{\u001b[0m\u001b[32m\"password\": \"pass3\"\u001b[0m\u001b[32m}\u001b[0m\u001b[32m'\u001b[0m,\n",
       "    \u001b[33mType\u001b[0m=\u001b[32m'SecureString'\u001b[0m,\n",
       "    \u001b[33mVersion\u001b[0m=\u001b[1;36m3\u001b[0m,\n",
       "    \u001b[33mLastModifiedDate\u001b[0m=\u001b[1;35mdatetime\u001b[0m\u001b[1;35m.datetime\u001b[0m\u001b[1m(\u001b[0m\u001b[1;36m2023\u001b[0m, \u001b[1;36m11\u001b[0m, \u001b[1;36m18\u001b[0m, \u001b[1;36m10\u001b[0m, \u001b[1;36m2\u001b[0m, \u001b[1;36m52\u001b[0m, \u001b[1;36m867000\u001b[0m, \u001b[33mtzinfo\u001b[0m=\u001b[1;35mtzlocal\u001b[0m\u001b[1m(\u001b[0m\u001b[1m)\u001b[0m\u001b[1m)\u001b[0m,\n",
       "    \u001b[33mDataType\u001b[0m=\u001b[32m'text'\u001b[0m,\n",
       "    \u001b[33mARN\u001b[0m=\u001b[32m'arn:aws:ssm:us-east-1:111122223333:parameter/pysecret-version'\u001b[0m,\n",
       "    \u001b[33mSelector\u001b[0m=\u001b[3;35mNone\u001b[0m,\n",
       "    \u001b[33mSourceResult\u001b[0m=\u001b[3;35mNone\u001b[0m,\n",
       "    \u001b[33mTags\u001b[0m=\u001b[1m{\u001b[0m\u001b[1m}\u001b[0m,\n",
       "    \u001b[33mLabels\u001b[0m=\u001b[1m[\u001b[0m\u001b[1m]\u001b[0m\n",
       "\u001b[1m)\u001b[0m\n"
      ]
     },
     "metadata": {},
     "output_type": "display_data"
    }
   ],
   "source": [
    "# get the latest version\n",
    "param = Parameter.load(\n",
    "    ssm_client, \n",
    "    name=param_name_version_example, \n",
    "    # to get the latest version, don't specify the version\n",
    "    with_decryption=True,\n",
    ")\n",
    "rprint(param)"
   ]
  },
  {
   "cell_type": "markdown",
   "metadata": {},
   "source": [
    "## Parameter Label\n",
    "\n",
    "[A parameter label is a user-defined alias to help you manage different versions of a parameter.](https://docs.aws.amazon.com/systems-manager/latest/userguide/sysman-paramstore-labels.html)."
   ]
  },
  {
   "cell_type": "code",
   "execution_count": 17,
   "metadata": {},
   "outputs": [],
   "source": [
    "param_name_label_example = \"pysecret-label\"\n",
    "for password, label in [\n",
    "    (\"pass1\", \"dev\"), \n",
    "    (\"pass2\", \"test\"), \n",
    "    # You can't attach the same label to different versions of the same parameter.\n",
    "    # if the label is already attached to a version, \n",
    "    # it will automatically detach, then attach to the new version\n",
    "    (\"pass3\", \"prod\"),\n",
    "    (\"pass4\", \"prod\"),\n",
    "    (\"pass5\", \"prod\"),\n",
    "]:\n",
    "    param = deploy_parameter(\n",
    "        ssm_client,\n",
    "        name=param_name_label_example,\n",
    "        data={\"password\": password},\n",
    "        type_is_secure_string=True,\n",
    "        use_default_kms_key=True,\n",
    "        tier_is_intelligent=True,\n",
    "        overwrite=True, # set overwrite = True to allow update\n",
    "        skip_if_duplicated=True, # if True, then it won't update if the parameter data is the same\n",
    "    )\n",
    "    if param is not None:\n",
    "        param.put_label(ssm_client, labels=[label])"
   ]
  },
  {
   "cell_type": "code",
   "execution_count": 18,
   "metadata": {},
   "outputs": [
    {
     "data": {
      "text/html": [
       "<pre style=\"white-space:pre;overflow-x:auto;line-height:normal;font-family:Menlo,'DejaVu Sans Mono',consolas,'Courier New',monospace\"><span style=\"color: #800080; text-decoration-color: #800080; font-weight: bold\">Parameter</span><span style=\"font-weight: bold\">(</span>\n",
       "    <span style=\"color: #808000; text-decoration-color: #808000\">Name</span>=<span style=\"color: #008000; text-decoration-color: #008000\">'pysecret-label'</span>,\n",
       "    <span style=\"color: #808000; text-decoration-color: #808000\">Value</span>=<span style=\"color: #008000; text-decoration-color: #008000\">'{\"password\": \"pass1\"}'</span>,\n",
       "    <span style=\"color: #808000; text-decoration-color: #808000\">Type</span>=<span style=\"color: #008000; text-decoration-color: #008000\">'SecureString'</span>,\n",
       "    <span style=\"color: #808000; text-decoration-color: #808000\">Version</span>=<span style=\"color: #008080; text-decoration-color: #008080; font-weight: bold\">1</span>,\n",
       "    <span style=\"color: #808000; text-decoration-color: #808000\">LastModifiedDate</span>=<span style=\"color: #800080; text-decoration-color: #800080; font-weight: bold\">datetime</span><span style=\"color: #800080; text-decoration-color: #800080; font-weight: bold\">.datetime</span><span style=\"font-weight: bold\">(</span><span style=\"color: #008080; text-decoration-color: #008080; font-weight: bold\">2023</span>, <span style=\"color: #008080; text-decoration-color: #008080; font-weight: bold\">11</span>, <span style=\"color: #008080; text-decoration-color: #008080; font-weight: bold\">18</span>, <span style=\"color: #008080; text-decoration-color: #008080; font-weight: bold\">10</span>, <span style=\"color: #008080; text-decoration-color: #008080; font-weight: bold\">2</span>, <span style=\"color: #008080; text-decoration-color: #008080; font-weight: bold\">53</span>, <span style=\"color: #008080; text-decoration-color: #008080; font-weight: bold\">253000</span>, <span style=\"color: #808000; text-decoration-color: #808000\">tzinfo</span>=<span style=\"color: #800080; text-decoration-color: #800080; font-weight: bold\">tzlocal</span><span style=\"font-weight: bold\">())</span>,\n",
       "    <span style=\"color: #808000; text-decoration-color: #808000\">DataType</span>=<span style=\"color: #008000; text-decoration-color: #008000\">'text'</span>,\n",
       "    <span style=\"color: #808000; text-decoration-color: #808000\">ARN</span>=<span style=\"color: #008000; text-decoration-color: #008000\">'arn:aws:ssm:us-east-1:111122223333:parameter/pysecret-label'</span>,\n",
       "    <span style=\"color: #808000; text-decoration-color: #808000\">Selector</span>=<span style=\"color: #008000; text-decoration-color: #008000\">':dev'</span>,\n",
       "    <span style=\"color: #808000; text-decoration-color: #808000\">SourceResult</span>=<span style=\"color: #800080; text-decoration-color: #800080; font-style: italic\">None</span>,\n",
       "    <span style=\"color: #808000; text-decoration-color: #808000\">Tags</span>=<span style=\"font-weight: bold\">{}</span>,\n",
       "    <span style=\"color: #808000; text-decoration-color: #808000\">Labels</span>=<span style=\"font-weight: bold\">[</span><span style=\"color: #008000; text-decoration-color: #008000\">'dev'</span><span style=\"font-weight: bold\">]</span>\n",
       "<span style=\"font-weight: bold\">)</span>\n",
       "</pre>\n"
      ],
      "text/plain": [
       "\u001b[1;35mParameter\u001b[0m\u001b[1m(\u001b[0m\n",
       "    \u001b[33mName\u001b[0m=\u001b[32m'pysecret-label'\u001b[0m,\n",
       "    \u001b[33mValue\u001b[0m=\u001b[32m'\u001b[0m\u001b[32m{\u001b[0m\u001b[32m\"password\": \"pass1\"\u001b[0m\u001b[32m}\u001b[0m\u001b[32m'\u001b[0m,\n",
       "    \u001b[33mType\u001b[0m=\u001b[32m'SecureString'\u001b[0m,\n",
       "    \u001b[33mVersion\u001b[0m=\u001b[1;36m1\u001b[0m,\n",
       "    \u001b[33mLastModifiedDate\u001b[0m=\u001b[1;35mdatetime\u001b[0m\u001b[1;35m.datetime\u001b[0m\u001b[1m(\u001b[0m\u001b[1;36m2023\u001b[0m, \u001b[1;36m11\u001b[0m, \u001b[1;36m18\u001b[0m, \u001b[1;36m10\u001b[0m, \u001b[1;36m2\u001b[0m, \u001b[1;36m53\u001b[0m, \u001b[1;36m253000\u001b[0m, \u001b[33mtzinfo\u001b[0m=\u001b[1;35mtzlocal\u001b[0m\u001b[1m(\u001b[0m\u001b[1m)\u001b[0m\u001b[1m)\u001b[0m,\n",
       "    \u001b[33mDataType\u001b[0m=\u001b[32m'text'\u001b[0m,\n",
       "    \u001b[33mARN\u001b[0m=\u001b[32m'arn:aws:ssm:us-east-1:111122223333:parameter/pysecret-label'\u001b[0m,\n",
       "    \u001b[33mSelector\u001b[0m=\u001b[32m':dev'\u001b[0m,\n",
       "    \u001b[33mSourceResult\u001b[0m=\u001b[3;35mNone\u001b[0m,\n",
       "    \u001b[33mTags\u001b[0m=\u001b[1m{\u001b[0m\u001b[1m}\u001b[0m,\n",
       "    \u001b[33mLabels\u001b[0m=\u001b[1m[\u001b[0m\u001b[32m'dev'\u001b[0m\u001b[1m]\u001b[0m\n",
       "\u001b[1m)\u001b[0m\n"
      ]
     },
     "metadata": {},
     "output_type": "display_data"
    }
   ],
   "source": [
    "param = param.load(\n",
    "    ssm_client, \n",
    "    name=param_name_label_example, \n",
    "    label=\"dev\",\n",
    ")\n",
    "rprint(param)"
   ]
  },
  {
   "cell_type": "code",
   "execution_count": 19,
   "metadata": {},
   "outputs": [
    {
     "data": {
      "text/html": [
       "<pre style=\"white-space:pre;overflow-x:auto;line-height:normal;font-family:Menlo,'DejaVu Sans Mono',consolas,'Courier New',monospace\"><span style=\"color: #800080; text-decoration-color: #800080; font-weight: bold\">Parameter</span><span style=\"font-weight: bold\">(</span>\n",
       "    <span style=\"color: #808000; text-decoration-color: #808000\">Name</span>=<span style=\"color: #008000; text-decoration-color: #008000\">'pysecret-label'</span>,\n",
       "    <span style=\"color: #808000; text-decoration-color: #808000\">Value</span>=<span style=\"color: #008000; text-decoration-color: #008000\">'{\"password\": \"pass5\"}'</span>,\n",
       "    <span style=\"color: #808000; text-decoration-color: #808000\">Type</span>=<span style=\"color: #008000; text-decoration-color: #008000\">'SecureString'</span>,\n",
       "    <span style=\"color: #808000; text-decoration-color: #808000\">Version</span>=<span style=\"color: #008080; text-decoration-color: #008080; font-weight: bold\">5</span>,\n",
       "    <span style=\"color: #808000; text-decoration-color: #808000\">LastModifiedDate</span>=<span style=\"color: #800080; text-decoration-color: #800080; font-weight: bold\">datetime</span><span style=\"color: #800080; text-decoration-color: #800080; font-weight: bold\">.datetime</span><span style=\"font-weight: bold\">(</span><span style=\"color: #008080; text-decoration-color: #008080; font-weight: bold\">2023</span>, <span style=\"color: #008080; text-decoration-color: #008080; font-weight: bold\">11</span>, <span style=\"color: #008080; text-decoration-color: #008080; font-weight: bold\">18</span>, <span style=\"color: #008080; text-decoration-color: #008080; font-weight: bold\">10</span>, <span style=\"color: #008080; text-decoration-color: #008080; font-weight: bold\">2</span>, <span style=\"color: #008080; text-decoration-color: #008080; font-weight: bold\">54</span>, <span style=\"color: #008080; text-decoration-color: #008080; font-weight: bold\">180000</span>, <span style=\"color: #808000; text-decoration-color: #808000\">tzinfo</span>=<span style=\"color: #800080; text-decoration-color: #800080; font-weight: bold\">tzlocal</span><span style=\"font-weight: bold\">())</span>,\n",
       "    <span style=\"color: #808000; text-decoration-color: #808000\">DataType</span>=<span style=\"color: #008000; text-decoration-color: #008000\">'text'</span>,\n",
       "    <span style=\"color: #808000; text-decoration-color: #808000\">ARN</span>=<span style=\"color: #008000; text-decoration-color: #008000\">'arn:aws:ssm:us-east-1:111122223333:parameter/pysecret-label'</span>,\n",
       "    <span style=\"color: #808000; text-decoration-color: #808000\">Selector</span>=<span style=\"color: #008000; text-decoration-color: #008000\">':prod'</span>,\n",
       "    <span style=\"color: #808000; text-decoration-color: #808000\">SourceResult</span>=<span style=\"color: #800080; text-decoration-color: #800080; font-style: italic\">None</span>,\n",
       "    <span style=\"color: #808000; text-decoration-color: #808000\">Tags</span>=<span style=\"font-weight: bold\">{}</span>,\n",
       "    <span style=\"color: #808000; text-decoration-color: #808000\">Labels</span>=<span style=\"font-weight: bold\">[</span><span style=\"color: #008000; text-decoration-color: #008000\">'prod'</span><span style=\"font-weight: bold\">]</span>\n",
       "<span style=\"font-weight: bold\">)</span>\n",
       "</pre>\n"
      ],
      "text/plain": [
       "\u001b[1;35mParameter\u001b[0m\u001b[1m(\u001b[0m\n",
       "    \u001b[33mName\u001b[0m=\u001b[32m'pysecret-label'\u001b[0m,\n",
       "    \u001b[33mValue\u001b[0m=\u001b[32m'\u001b[0m\u001b[32m{\u001b[0m\u001b[32m\"password\": \"pass5\"\u001b[0m\u001b[32m}\u001b[0m\u001b[32m'\u001b[0m,\n",
       "    \u001b[33mType\u001b[0m=\u001b[32m'SecureString'\u001b[0m,\n",
       "    \u001b[33mVersion\u001b[0m=\u001b[1;36m5\u001b[0m,\n",
       "    \u001b[33mLastModifiedDate\u001b[0m=\u001b[1;35mdatetime\u001b[0m\u001b[1;35m.datetime\u001b[0m\u001b[1m(\u001b[0m\u001b[1;36m2023\u001b[0m, \u001b[1;36m11\u001b[0m, \u001b[1;36m18\u001b[0m, \u001b[1;36m10\u001b[0m, \u001b[1;36m2\u001b[0m, \u001b[1;36m54\u001b[0m, \u001b[1;36m180000\u001b[0m, \u001b[33mtzinfo\u001b[0m=\u001b[1;35mtzlocal\u001b[0m\u001b[1m(\u001b[0m\u001b[1m)\u001b[0m\u001b[1m)\u001b[0m,\n",
       "    \u001b[33mDataType\u001b[0m=\u001b[32m'text'\u001b[0m,\n",
       "    \u001b[33mARN\u001b[0m=\u001b[32m'arn:aws:ssm:us-east-1:111122223333:parameter/pysecret-label'\u001b[0m,\n",
       "    \u001b[33mSelector\u001b[0m=\u001b[32m':prod'\u001b[0m,\n",
       "    \u001b[33mSourceResult\u001b[0m=\u001b[3;35mNone\u001b[0m,\n",
       "    \u001b[33mTags\u001b[0m=\u001b[1m{\u001b[0m\u001b[1m}\u001b[0m,\n",
       "    \u001b[33mLabels\u001b[0m=\u001b[1m[\u001b[0m\u001b[32m'prod'\u001b[0m\u001b[1m]\u001b[0m\n",
       "\u001b[1m)\u001b[0m\n"
      ]
     },
     "metadata": {},
     "output_type": "display_data"
    }
   ],
   "source": [
    "param = param.load(\n",
    "    ssm_client, \n",
    "    name=param_name_label_example, \n",
    "    label=\"prod\",\n",
    ")\n",
    "rprint(param)"
   ]
  },
  {
   "cell_type": "markdown",
   "metadata": {},
   "source": [
    "## Clearn Up\n",
    "\n",
    "Now you know how to use ``pysecret`` to manage AWS Parameter. Let's clean up the AWS resources created in this tutorial."
   ]
  },
  {
   "cell_type": "code",
   "execution_count": 21,
   "metadata": {},
   "outputs": [],
   "source": [
    "_ = delete_parameter(ssm_client, param_name_version_example)\n",
    "_ = delete_parameter(ssm_client, param_name_label_example)"
   ]
  },
  {
   "cell_type": "code",
   "execution_count": null,
   "metadata": {},
   "outputs": [],
   "source": []
  }
 ],
 "metadata": {
  "kernelspec": {
   "display_name": "Python 3 (ipykernel)",
   "language": "python",
   "name": "python3"
  },
  "language_info": {
   "codemirror_mode": {
    "name": "ipython",
    "version": 3
   },
   "file_extension": ".py",
   "mimetype": "text/x-python",
   "name": "python",
   "nbconvert_exporter": "python",
   "pygments_lexer": "ipython3",
   "version": "3.8.13"
  }
 },
 "nbformat": 4,
 "nbformat_minor": 4
}

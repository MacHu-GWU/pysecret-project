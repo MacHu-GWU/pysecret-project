{
 "cells": [
  {
   "cell_type": "markdown",
   "source": [
    "# Secret in AWS Parameter Store\n",
    "\n",
    "AWS Parameter Store is a Free service allows you to securely store parameters. This is how you deploy parameter:"
   ],
   "metadata": {
    "collapsed": false,
    "pycharm": {
     "name": "#%% md\n"
    }
   }
  },
  {
   "cell_type": "code",
   "execution_count": 12,
   "outputs": [],
   "source": [
    "import boto3\n",
    "from pysecret import Parameter, deploy_parameter, delete_parameter\n",
    "\n",
    "ssm_client = boto3.client(\"ssm\")\n",
    "\n",
    "param_name = \"pysecret-demo\"\n",
    "\n",
    "_ = delete_parameter(ssm_client, param_name) # ensure it is not exists at beginning"
   ],
   "metadata": {
    "collapsed": false,
    "pycharm": {
     "name": "#%%\n"
    }
   }
  },
  {
   "cell_type": "markdown",
   "source": [
    "Create a new parameter"
   ],
   "metadata": {
    "collapsed": false,
    "pycharm": {
     "name": "#%% md\n"
    }
   }
  },
  {
   "cell_type": "code",
   "execution_count": 13,
   "outputs": [
    {
     "data": {
      "text/plain": "Parameter(Name='pysecret-demo', Type='SecureString', Value='{\"password\": \"mypassword1\"}', Version=1, LastModifiedDate=datetime.datetime(2023, 2, 11, 21, 47, 52), DataType='text', ARN=None, Selector=None, SourceResult=None)"
     },
     "execution_count": 13,
     "metadata": {},
     "output_type": "execute_result"
    }
   ],
   "source": [
    "param = deploy_parameter(\n",
    "    ssm_client,\n",
    "    name=param_name,\n",
    "    data={\"password\": \"mypassword1\"},\n",
    "    type_is_secure_string=True,\n",
    "    use_default_kms_key=True,\n",
    "    tier_is_intelligent=True,\n",
    "    tags=dict(EnvName=\"dev\"),\n",
    ")\n",
    "param"
   ],
   "metadata": {
    "collapsed": false,
    "pycharm": {
     "name": "#%%\n"
    }
   }
  },
  {
   "cell_type": "markdown",
   "source": [
    "Update a parameter"
   ],
   "metadata": {
    "collapsed": false,
    "pycharm": {
     "name": "#%% md\n"
    }
   }
  },
  {
   "cell_type": "code",
   "execution_count": 14,
   "outputs": [
    {
     "data": {
      "text/plain": "Parameter(Name='pysecret-demo', Type='SecureString', Value='{\"password\": \"mypassword2\"}', Version=2, LastModifiedDate=datetime.datetime(2023, 2, 11, 21, 47, 53), DataType='text', ARN=None, Selector=None, SourceResult=None)"
     },
     "execution_count": 14,
     "metadata": {},
     "output_type": "execute_result"
    }
   ],
   "source": [
    "param = deploy_parameter(\n",
    "    ssm_client,\n",
    "    name=param_name,\n",
    "    data={\"password\": \"mypassword2\"},\n",
    "    type_is_secure_string=True,\n",
    "    use_default_kms_key=True,\n",
    "    tier_is_intelligent=True,\n",
    "    tags=dict(EnvName=\"prod\"), # also update tag\n",
    "    overwrite=True, # set overwrite = True to allow update\n",
    "    skip_if_duplicated=True, # if True, then it won't update if the parameter data is the same\n",
    ")\n",
    "param"
   ],
   "metadata": {
    "collapsed": false,
    "pycharm": {
     "name": "#%%\n"
    }
   }
  },
  {
   "cell_type": "markdown",
   "source": [
    "This is how you read parameter data"
   ],
   "metadata": {
    "collapsed": false,
    "pycharm": {
     "name": "#%% md\n"
    }
   }
  },
  {
   "cell_type": "code",
   "execution_count": 15,
   "outputs": [
    {
     "data": {
      "text/plain": "Parameter(Name='pysecret-demo', Type='SecureString', Value='{\"password\": \"mypassword2\"}', Version=2, LastModifiedDate=datetime.datetime(2023, 2, 11, 16, 47, 52, 997000, tzinfo=tzlocal()), DataType='text', ARN='arn:aws:ssm:us-east-1:669508176277:parameter/pysecret-demo', Selector=None, SourceResult=None)"
     },
     "execution_count": 15,
     "metadata": {},
     "output_type": "execute_result"
    }
   ],
   "source": [
    "param = Parameter.load(ssm_client, name=param_name, with_decryption=True)\n",
    "param"
   ],
   "metadata": {
    "collapsed": false,
    "pycharm": {
     "name": "#%%\n"
    }
   }
  },
  {
   "cell_type": "code",
   "execution_count": 16,
   "outputs": [
    {
     "data": {
      "text/plain": "{'password': 'mypassword2'}"
     },
     "execution_count": 16,
     "metadata": {},
     "output_type": "execute_result"
    }
   ],
   "source": [
    "# access the underlying user data\n",
    "param.json_dict"
   ],
   "metadata": {
    "collapsed": false,
    "pycharm": {
     "name": "#%%\n"
    }
   }
  },
  {
   "cell_type": "markdown",
   "source": [
    "``pysecret`` can even store arbitrary python object in AWS Parameter Store, if you installed ``jsonpickle`` first."
   ],
   "metadata": {
    "collapsed": false,
    "pycharm": {
     "name": "#%% md\n"
    }
   }
  },
  {
   "cell_type": "code",
   "execution_count": 17,
   "outputs": [],
   "source": [
    "import dataclasses\n",
    "\n",
    "@dataclasses.dataclass\n",
    "class Env:\n",
    "    username: str = dataclasses.field()\n",
    "    password: str = dataclasses.field()\n",
    "\n",
    "\n",
    "@dataclasses.dataclass\n",
    "class Config:\n",
    "    dev: Env = dataclasses.field()\n",
    "    prod: Env = dataclasses.field()"
   ],
   "metadata": {
    "collapsed": false,
    "pycharm": {
     "name": "#%%\n"
    }
   }
  },
  {
   "cell_type": "code",
   "execution_count": 18,
   "outputs": [
    {
     "data": {
      "text/plain": "Config(dev=Env(username='dev-username', password='dev-password'), prod=Env(username='prod-username', password='prod-password'))"
     },
     "execution_count": 18,
     "metadata": {},
     "output_type": "execute_result"
    }
   ],
   "source": [
    "config = Config(\n",
    "    dev=Env(\n",
    "        username=\"dev-username\",\n",
    "        password=\"dev-password\",\n",
    "    ),\n",
    "    prod=Env(\n",
    "        username=\"prod-username\",\n",
    "        password=\"prod-password\",\n",
    "    ),\n",
    ")\n",
    "\n",
    "param_name = \"pysecret-pyobject\"\n",
    "\n",
    "deploy_parameter(\n",
    "    ssm_client,\n",
    "    name=param_name,\n",
    "    data=config,\n",
    "    type_is_string=True,\n",
    "    tier_is_intelligent=True,\n",
    "    overwrite=True,\n",
    ")\n",
    "\n",
    "param = Parameter.load(ssm_client, name=param_name)\n",
    "param.py_object # access the underlying data"
   ],
   "metadata": {
    "collapsed": false,
    "pycharm": {
     "name": "#%%\n"
    }
   }
  },
  {
   "cell_type": "markdown",
   "source": [
    "You can delete the parameters to keep your AWS Account clean"
   ],
   "metadata": {
    "collapsed": false,
    "pycharm": {
     "name": "#%% md\n"
    }
   }
  },
  {
   "cell_type": "code",
   "execution_count": 20,
   "outputs": [],
   "source": [
    "delete_parameter(ssm_client, \"pysecret-demo\");\n",
    "delete_parameter(ssm_client, \"pysecret-pyobject\");"
   ],
   "metadata": {
    "collapsed": false,
    "pycharm": {
     "name": "#%%\n"
    }
   }
  },
  {
   "cell_type": "code",
   "execution_count": null,
   "outputs": [],
   "source": [],
   "metadata": {
    "collapsed": false,
    "pycharm": {
     "name": "#%%\n"
    }
   }
  }
 ],
 "metadata": {
  "kernelspec": {
   "display_name": "Python 3",
   "language": "python",
   "name": "python3"
  },
  "language_info": {
   "codemirror_mode": {
    "name": "ipython",
    "version": 2
   },
   "file_extension": ".py",
   "mimetype": "text/x-python",
   "name": "python",
   "nbconvert_exporter": "python",
   "pygments_lexer": "ipython2",
   "version": "2.7.6"
  }
 },
 "nbformat": 4,
 "nbformat_minor": 0
}
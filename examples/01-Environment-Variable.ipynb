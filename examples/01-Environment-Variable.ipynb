{
 "cells": [
  {
   "cell_type": "markdown",
   "source": [
    "# Secret in Environment Variable\n",
    "\n",
    "``BaseEnvVar`` is a simple wrapper around the ``os.environ`` to provide objective oriented environment variable access."
   ],
   "metadata": {
    "collapsed": false,
    "pycharm": {
     "name": "#%% md\n"
    }
   },
   "execution_count": 0
  },
  {
   "cell_type": "code",
   "execution_count": 1,
   "outputs": [],
   "source": [
    "import os\n",
    "import dataclasses\n",
    "from pysecret import BaseEnvVar\n",
    "\n",
    "@dataclasses.dataclass\n",
    "class EnvVar(BaseEnvVar):\n",
    "    DB_PASSWORD: str = dataclasses.field(default=None)"
   ],
   "metadata": {
    "collapsed": false,
    "pycharm": {
     "name": "#%%\n"
    }
   }
  },
  {
   "cell_type": "code",
   "execution_count": 4,
   "outputs": [
    {
     "name": "stdout",
     "output_type": "stream",
     "text": [
      "{\n",
      "    \"DB_PASSWORD\": null\n",
      "}\n"
     ]
    }
   ],
   "source": [
    "# the environment variable DB_PASSWORD has not been set yet\n",
    "env_var = EnvVar.load()\n",
    "print(env_var.to_json())"
   ],
   "metadata": {
    "collapsed": false,
    "pycharm": {
     "name": "#%%\n"
    }
   }
  },
  {
   "cell_type": "code",
   "execution_count": 5,
   "outputs": [
    {
     "name": "stdout",
     "output_type": "stream",
     "text": [
      "{\n",
      "    \"DB_PASSWORD\": \"mypassword\"\n",
      "}\n"
     ]
    }
   ],
   "source": [
    "# now you can access the DB_PASSWORD\n",
    "os.environ[\"DB_PASSWORD\"] = \"mypassword\"\n",
    "\n",
    "env_var = EnvVar.load()\n",
    "print(env_var.to_json())"
   ],
   "metadata": {
    "collapsed": false,
    "pycharm": {
     "name": "#%%\n"
    }
   }
  },
  {
   "cell_type": "code",
   "execution_count": null,
   "outputs": [],
   "source": [],
   "metadata": {
    "collapsed": false,
    "pycharm": {
     "name": "#%%\n"
    }
   }
  }
 ],
 "metadata": {
  "kernelspec": {
   "display_name": "Python 3",
   "language": "python",
   "name": "python3"
  },
  "language_info": {
   "codemirror_mode": {
    "name": "ipython",
    "version": 2
   },
   "file_extension": ".py",
   "mimetype": "text/x-python",
   "name": "python",
   "nbconvert_exporter": "python",
   "pygments_lexer": "ipython2",
   "version": "2.7.6"
  }
 },
 "nbformat": 4,
 "nbformat_minor": 0
}
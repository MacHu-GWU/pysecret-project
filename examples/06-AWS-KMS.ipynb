{
 "cells": [
  {
   "cell_type": "markdown",
   "source": [
    "Encrypt and Decrypt with AWS KMS"
   ],
   "metadata": {
    "collapsed": false,
    "pycharm": {
     "name": "#%% md\n"
    }
   }
  },
  {
   "cell_type": "code",
   "execution_count": 6,
   "outputs": [],
   "source": [
    "import boto3\n",
    "from pysecret import kms_symmetric_encrypt, kms_symmetric_decrypt\n",
    "\n",
    "kms_client = boto3.client(\"kms\")\n",
    "\n",
    "kms_key_id = \"alias/pysecret_test\"\n",
    "secret_message = \"attack on 4 AM!\""
   ],
   "metadata": {
    "collapsed": false,
    "pycharm": {
     "name": "#%%\n"
    }
   }
  },
  {
   "cell_type": "code",
   "execution_count": 8,
   "outputs": [
    {
     "data": {
      "text/plain": "b'\\x01\\x02\\x02\\x00xK5\\x16\\xc2\\xf9\\x02\\x19\\xbd\\x12\\xdf\\xfb\\xdd\\xfd\\xd2\\xd7~\\xcf\\x1a-F\\x8f\\xc8<\\x99\\x8d\\xd7\\x90\\xc3%\\x14Pp\\x01 ~\\x9d\\x1f\\xb5\\xeaf\\xa1K\\xd5s\\x99?\\x06h\\x89\\x00\\x00\\x00m0k\\x06\\t*\\x86H\\x86\\xf7\\r\\x01\\x07\\x06\\xa0^0\\\\\\x02\\x01\\x000W\\x06\\t*\\x86H\\x86\\xf7\\r\\x01\\x07\\x010\\x1e\\x06\\t`\\x86H\\x01e\\x03\\x04\\x01.0\\x11\\x04\\x0c\\xb8\\xb3\\xc7\\xbdGF_k\\xa6\\x08\\xa3\\xb0\\x02\\x01\\x10\\x80*\\xd5\\xce3\\xc6m\\x8d\\x81e/\\x81\\xa6\\x01E\\xac\\x90P\\xf7E-~r\\xf52\\x88\\xc6\\x8b\\x9b\\x9aG\\x94\\x98<\\xa0\\xf97\\xae\\xbdNt(|\\xb4'"
     },
     "execution_count": 8,
     "metadata": {},
     "output_type": "execute_result"
    }
   ],
   "source": [
    "encrypted_message = kms_symmetric_encrypt(kms_client, secret_message, kms_key_id=kms_key_id)\n",
    "encrypted_message"
   ],
   "metadata": {
    "collapsed": false,
    "pycharm": {
     "name": "#%%\n"
    }
   }
  },
  {
   "cell_type": "code",
   "execution_count": 10,
   "outputs": [
    {
     "data": {
      "text/plain": "b'attack on 4 AM!'"
     },
     "execution_count": 10,
     "metadata": {},
     "output_type": "execute_result"
    }
   ],
   "source": [
    "kms_symmetric_decrypt(kms_client, encrypted_message)"
   ],
   "metadata": {
    "collapsed": false,
    "pycharm": {
     "name": "#%%\n"
    }
   }
  },
  {
   "cell_type": "code",
   "execution_count": null,
   "outputs": [],
   "source": [],
   "metadata": {
    "collapsed": false,
    "pycharm": {
     "name": "#%%\n"
    }
   }
  }
 ],
 "metadata": {
  "kernelspec": {
   "display_name": "Python 3",
   "language": "python",
   "name": "python3"
  },
  "language_info": {
   "codemirror_mode": {
    "name": "ipython",
    "version": 2
   },
   "file_extension": ".py",
   "mimetype": "text/x-python",
   "name": "python",
   "nbconvert_exporter": "python",
   "pygments_lexer": "ipython2",
   "version": "2.7.6"
  }
 },
 "nbformat": 4,
 "nbformat_minor": 0
}
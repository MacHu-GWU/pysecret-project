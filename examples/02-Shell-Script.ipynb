{
 "cells": [
  {
   "cell_type": "markdown",
   "source": [
    "# Secret in Shell Script\n",
    "\n",
    "Developer may use shell script source file to store secrets. You can use the ``BaseShellScriptSecret`` class to access the data in shell script."
   ],
   "metadata": {
    "collapsed": false,
    "pycharm": {
     "name": "#%% md\n"
    }
   }
  },
  {
   "cell_type": "code",
   "execution_count": 1,
   "outputs": [],
   "source": [
    "import os\n",
    "import dataclasses\n",
    "from pysecret import BaseShellScriptSecret\n",
    "\n",
    "@dataclasses.dataclass\n",
    "class ShellScriptSecret(BaseShellScriptSecret):\n",
    "    DB_PASSWORD: str = dataclasses.field(default=None)"
   ],
   "metadata": {
    "collapsed": false,
    "pycharm": {
     "name": "#%%\n"
    }
   }
  },
  {
   "cell_type": "markdown",
   "source": [
    "content of ``source.sh``:\n",
    "\n",
    "```bash\n",
    "#!/bin/bash\n",
    "\n",
    "export DB_PASSWORD=\"mypassword\"\n",
    "```"
   ],
   "metadata": {
    "collapsed": false,
    "pycharm": {
     "name": "#%% md\n"
    }
   }
  },
  {
   "cell_type": "code",
   "execution_count": 4,
   "outputs": [
    {
     "name": "stdout",
     "output_type": "stream",
     "text": [
      "{\n",
      "    \"DB_PASSWORD\": \"mypassword\"\n",
      "}\n"
     ]
    }
   ],
   "source": [
    "path_sh = os.path.join(os.getcwd(), \"source.sh\")\n",
    "sh = ShellScriptSecret.load(path_sh)\n",
    "print(sh.to_json())"
   ],
   "metadata": {
    "collapsed": false,
    "pycharm": {
     "name": "#%%\n"
    }
   }
  },
  {
   "cell_type": "code",
   "execution_count": null,
   "outputs": [],
   "source": [],
   "metadata": {
    "collapsed": false,
    "pycharm": {
     "name": "#%%\n"
    }
   }
  }
 ],
 "metadata": {
  "kernelspec": {
   "display_name": "Python 3",
   "language": "python",
   "name": "python3"
  },
  "language_info": {
   "codemirror_mode": {
    "name": "ipython",
    "version": 2
   },
   "file_extension": ".py",
   "mimetype": "text/x-python",
   "name": "python",
   "nbconvert_exporter": "python",
   "pygments_lexer": "ipython2",
   "version": "2.7.6"
  }
 },
 "nbformat": 4,
 "nbformat_minor": 0
}
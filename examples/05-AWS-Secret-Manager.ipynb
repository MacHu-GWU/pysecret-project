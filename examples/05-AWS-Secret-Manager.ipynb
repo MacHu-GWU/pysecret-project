{
 "cells": [
  {
   "cell_type": "markdown",
   "source": [
    "# Secret in AWS Secret Manager\n",
    "\n",
    "Secret Manager is an advanced service that allows you to manage secrets securely. This is how you deploy AWS secrets:"
   ],
   "metadata": {
    "collapsed": false,
    "pycharm": {
     "name": "#%% md\n"
    }
   }
  },
  {
   "cell_type": "code",
   "execution_count": 2,
   "outputs": [],
   "source": [
    "import boto3\n",
    "from pysecret import Secret, deploy_secret, delete_secret\n",
    "\n",
    "sm_client = boto3.client(\"secretsmanager\")\n",
    "\n",
    "secret_name = \"pysecret-demo\"\n",
    "\n",
    "_ = delete_secret(sm_client, secret_name) # ensure it is not exists at beginning"
   ],
   "metadata": {
    "collapsed": false,
    "pycharm": {
     "name": "#%%\n"
    }
   }
  },
  {
   "cell_type": "markdown",
   "source": [
    "Create a new secret"
   ],
   "metadata": {
    "collapsed": false,
    "pycharm": {
     "name": "#%% md\n"
    }
   }
  },
  {
   "cell_type": "code",
   "execution_count": 4,
   "outputs": [
    {
     "data": {
      "text/plain": "Secret(ARN='arn:aws:secretsmanager:us-east-1:669508176277:secret:pysecret-demo-1Pjq3v', Name='pysecret-demo', VersionId='16d76673-748b-4c7e-aeb3-24acd8addb77', CreatedDate=datetime.datetime(2023, 2, 11, 21, 59, 28), SecretBinary=None, SecretString='{\"password\": \"mypassword1\"}', VersionStages=[])"
     },
     "execution_count": 4,
     "metadata": {},
     "output_type": "execute_result"
    }
   ],
   "source": [
    "secret = deploy_secret(\n",
    "    sm_client,\n",
    "    name_or_arn=secret_name,\n",
    "    data={\"password\": \"mypassword1\"},\n",
    ")\n",
    "secret"
   ],
   "metadata": {
    "collapsed": false,
    "pycharm": {
     "name": "#%%\n"
    }
   }
  },
  {
   "cell_type": "markdown",
   "source": [
    "Update a secret"
   ],
   "metadata": {
    "collapsed": false,
    "pycharm": {
     "name": "#%% md\n"
    }
   }
  },
  {
   "cell_type": "code",
   "execution_count": 5,
   "outputs": [
    {
     "data": {
      "text/plain": "Secret(ARN='arn:aws:secretsmanager:us-east-1:669508176277:secret:pysecret-demo-1Pjq3v', Name='pysecret-demo', VersionId='5265d056-c94d-4190-8614-ed9e5a051fa5', CreatedDate=datetime.datetime(2023, 2, 11, 21, 59, 32), SecretBinary=None, SecretString='{\"password\": \"mypassword2\"}', VersionStages=[])"
     },
     "execution_count": 5,
     "metadata": {},
     "output_type": "execute_result"
    }
   ],
   "source": [
    "secret = deploy_secret(\n",
    "    sm_client,\n",
    "    name_or_arn=secret_name,\n",
    "    data={\"password\": \"mypassword2\"},\n",
    ")\n",
    "secret"
   ],
   "metadata": {
    "collapsed": false,
    "pycharm": {
     "name": "#%%\n"
    }
   }
  },
  {
   "cell_type": "markdown",
   "source": [
    "This is how you read secret data"
   ],
   "metadata": {
    "collapsed": false,
    "pycharm": {
     "name": "#%% md\n"
    }
   }
  },
  {
   "cell_type": "code",
   "execution_count": 6,
   "outputs": [
    {
     "data": {
      "text/plain": "Secret(ARN='arn:aws:secretsmanager:us-east-1:669508176277:secret:pysecret-demo-1Pjq3v', Name='pysecret-demo', VersionId='5265d056-c94d-4190-8614-ed9e5a051fa5', CreatedDate=datetime.datetime(2023, 2, 11, 16, 59, 33, 164000, tzinfo=tzlocal()), SecretBinary=None, SecretString='{\"password\": \"mypassword2\"}', VersionStages=['AWSCURRENT'])"
     },
     "execution_count": 6,
     "metadata": {},
     "output_type": "execute_result"
    }
   ],
   "source": [
    "secret = Secret.load(sm_client, secret_name)\n",
    "secret"
   ],
   "metadata": {
    "collapsed": false,
    "pycharm": {
     "name": "#%%\n"
    }
   }
  },
  {
   "cell_type": "code",
   "execution_count": 7,
   "outputs": [
    {
     "data": {
      "text/plain": "{'password': 'mypassword2'}"
     },
     "execution_count": 7,
     "metadata": {},
     "output_type": "execute_result"
    }
   ],
   "source": [
    "# access the underlying user data\n",
    "secret.json_dict"
   ],
   "metadata": {
    "collapsed": false,
    "pycharm": {
     "name": "#%%\n"
    }
   }
  },
  {
   "cell_type": "markdown",
   "source": [
    "You can delete the secret to keep your AWS Account clean"
   ],
   "metadata": {
    "collapsed": false,
    "pycharm": {
     "name": "#%% md\n"
    }
   }
  },
  {
   "cell_type": "code",
   "execution_count": 9,
   "outputs": [],
   "source": [
    "delete_secret(sm_client, secret_name);"
   ],
   "metadata": {
    "collapsed": false,
    "pycharm": {
     "name": "#%%\n"
    }
   }
  },
  {
   "cell_type": "code",
   "execution_count": null,
   "outputs": [],
   "source": [],
   "metadata": {
    "collapsed": false,
    "pycharm": {
     "name": "#%%\n"
    }
   }
  }
 ],
 "metadata": {
  "kernelspec": {
   "display_name": "Python 3",
   "language": "python",
   "name": "python3"
  },
  "language_info": {
   "codemirror_mode": {
    "name": "ipython",
    "version": 2
   },
   "file_extension": ".py",
   "mimetype": "text/x-python",
   "name": "python",
   "nbconvert_exporter": "python",
   "pygments_lexer": "ipython2",
   "version": "2.7.6"
  }
 },
 "nbformat": 4,
 "nbformat_minor": 0
}
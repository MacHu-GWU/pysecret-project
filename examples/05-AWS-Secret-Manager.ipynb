{
 "cells": [
  {
   "cell_type": "markdown",
   "metadata": {
    "collapsed": false,
    "jupyter": {
     "outputs_hidden": false
    },
    "pycharm": {
     "name": "#%% md\n"
    }
   },
   "source": [
    "# Secret in AWS Secret Manager\n",
    "\n",
    "Secret Manager is an advanced service that allows you to manage secrets securely. This is how you deploy AWS secrets:"
   ]
  },
  {
   "cell_type": "code",
   "execution_count": 2,
   "metadata": {
    "collapsed": false,
    "jupyter": {
     "outputs_hidden": false
    },
    "pycharm": {
     "name": "#%%\n"
    }
   },
   "outputs": [],
   "source": [
    "import boto3\n",
    "from pysecret import Secret, deploy_secret, delete_secret\n",
    "\n",
    "sm_client = boto3.client(\"secretsmanager\")\n",
    "\n",
    "secret_name = \"pysecret-demo\"\n",
    "\n",
    "_ = delete_secret(sm_client, secret_name) # ensure it is not exists at beginning"
   ]
  },
  {
   "cell_type": "markdown",
   "metadata": {
    "collapsed": false,
    "jupyter": {
     "outputs_hidden": false
    },
    "pycharm": {
     "name": "#%% md\n"
    }
   },
   "source": [
    "Create a new secret"
   ]
  },
  {
   "cell_type": "code",
   "execution_count": 4,
   "metadata": {
    "collapsed": false,
    "jupyter": {
     "outputs_hidden": false
    },
    "pycharm": {
     "name": "#%%\n"
    }
   },
   "outputs": [
    {
     "data": {
      "text/plain": [
       "Secret(ARN='arn:aws:secretsmanager:us-east-1:669508176277:secret:pysecret-demo-1Pjq3v', Name='pysecret-demo', VersionId='16d76673-748b-4c7e-aeb3-24acd8addb77', CreatedDate=datetime.datetime(2023, 2, 11, 21, 59, 28), SecretBinary=None, SecretString='{\"password\": \"mypassword1\"}', VersionStages=[])"
      ]
     },
     "execution_count": 4,
     "metadata": {},
     "output_type": "execute_result"
    }
   ],
   "source": [
    "secret = deploy_secret(\n",
    "    sm_client,\n",
    "    name_or_arn=secret_name,\n",
    "    data={\"password\": \"mypassword1\"},\n",
    ")\n",
    "secret"
   ]
  },
  {
   "cell_type": "markdown",
   "metadata": {
    "collapsed": false,
    "jupyter": {
     "outputs_hidden": false
    },
    "pycharm": {
     "name": "#%% md\n"
    }
   },
   "source": [
    "Update a secret"
   ]
  },
  {
   "cell_type": "code",
   "execution_count": 5,
   "metadata": {
    "collapsed": false,
    "jupyter": {
     "outputs_hidden": false
    },
    "pycharm": {
     "name": "#%%\n"
    }
   },
   "outputs": [
    {
     "data": {
      "text/plain": [
       "Secret(ARN='arn:aws:secretsmanager:us-east-1:669508176277:secret:pysecret-demo-1Pjq3v', Name='pysecret-demo', VersionId='5265d056-c94d-4190-8614-ed9e5a051fa5', CreatedDate=datetime.datetime(2023, 2, 11, 21, 59, 32), SecretBinary=None, SecretString='{\"password\": \"mypassword2\"}', VersionStages=[])"
      ]
     },
     "execution_count": 5,
     "metadata": {},
     "output_type": "execute_result"
    }
   ],
   "source": [
    "secret = deploy_secret(\n",
    "    sm_client,\n",
    "    name_or_arn=secret_name,\n",
    "    data={\"password\": \"mypassword2\"},\n",
    ")\n",
    "secret"
   ]
  },
  {
   "cell_type": "markdown",
   "metadata": {
    "collapsed": false,
    "jupyter": {
     "outputs_hidden": false
    },
    "pycharm": {
     "name": "#%% md\n"
    }
   },
   "source": [
    "This is how you read secret data"
   ]
  },
  {
   "cell_type": "code",
   "execution_count": 6,
   "metadata": {
    "collapsed": false,
    "jupyter": {
     "outputs_hidden": false
    },
    "pycharm": {
     "name": "#%%\n"
    }
   },
   "outputs": [
    {
     "data": {
      "text/plain": [
       "Secret(ARN='arn:aws:secretsmanager:us-east-1:669508176277:secret:pysecret-demo-1Pjq3v', Name='pysecret-demo', VersionId='5265d056-c94d-4190-8614-ed9e5a051fa5', CreatedDate=datetime.datetime(2023, 2, 11, 16, 59, 33, 164000, tzinfo=tzlocal()), SecretBinary=None, SecretString='{\"password\": \"mypassword2\"}', VersionStages=['AWSCURRENT'])"
      ]
     },
     "execution_count": 6,
     "metadata": {},
     "output_type": "execute_result"
    }
   ],
   "source": [
    "secret = Secret.load(sm_client, secret_name)\n",
    "secret"
   ]
  },
  {
   "cell_type": "code",
   "execution_count": 7,
   "metadata": {
    "collapsed": false,
    "jupyter": {
     "outputs_hidden": false
    },
    "pycharm": {
     "name": "#%%\n"
    }
   },
   "outputs": [
    {
     "data": {
      "text/plain": [
       "{'password': 'mypassword2'}"
      ]
     },
     "execution_count": 7,
     "metadata": {},
     "output_type": "execute_result"
    }
   ],
   "source": [
    "# access the underlying user data\n",
    "secret.json_dict"
   ]
  },
  {
   "cell_type": "markdown",
   "metadata": {
    "collapsed": false,
    "jupyter": {
     "outputs_hidden": false
    },
    "pycharm": {
     "name": "#%% md\n"
    }
   },
   "source": [
    "You can delete the secret to keep your AWS Account clean"
   ]
  },
  {
   "cell_type": "code",
   "execution_count": 9,
   "metadata": {
    "collapsed": false,
    "jupyter": {
     "outputs_hidden": false
    },
    "pycharm": {
     "name": "#%%\n"
    }
   },
   "outputs": [],
   "source": [
    "delete_secret(sm_client, secret_name);"
   ]
  },
  {
   "cell_type": "code",
   "execution_count": null,
   "metadata": {
    "collapsed": false,
    "jupyter": {
     "outputs_hidden": false
    },
    "pycharm": {
     "name": "#%%\n"
    }
   },
   "outputs": [],
   "source": []
  }
 ],
 "metadata": {
  "kernelspec": {
   "display_name": "Python 3 (ipykernel)",
   "language": "python",
   "name": "python3"
  },
  "language_info": {
   "codemirror_mode": {
    "name": "ipython",
    "version": 3
   },
   "file_extension": ".py",
   "mimetype": "text/x-python",
   "name": "python",
   "nbconvert_exporter": "python",
   "pygments_lexer": "ipython3",
   "version": "3.8.13"
  }
 },
 "nbformat": 4,
 "nbformat_minor": 4
}
